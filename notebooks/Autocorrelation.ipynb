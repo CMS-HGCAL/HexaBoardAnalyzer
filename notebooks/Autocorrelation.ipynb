{
 "cells": [
  {
   "cell_type": "code",
   "execution_count": 1,
   "metadata": {
    "collapsed": false,
    "deletable": true,
    "editable": true
   },
   "outputs": [
    {
     "data": {
      "application/javascript": [
       "\n",
       "require(['notebook'],\n",
       "  function() {\n",
       "    IPython.CodeCell.config_defaults.highlight_modes['magic_text/x-c++src'] = {'reg':[/^%%cpp/]};\n",
       "    console.log(\"JupyROOT - %%cpp magic configured\");\n",
       "  }\n",
       ");\n"
      ]
     },
     "metadata": {},
     "output_type": "display_data"
    },
    {
     "name": "stdout",
     "output_type": "stream",
     "text": [
      "Welcome to JupyROOT 6.08/06\n"
     ]
    }
   ],
   "source": [
    "import numpy\n",
    "from root_numpy import root2array, tree2array\n",
    "#from root_numpy.testdata import get_filepath\n",
    "import ROOT\n",
    "ROOT.enableJSVis()\n",
    "\n",
    "# Fill a ROOT histogram from a NumPy array\n",
    "from ROOT import TH1D,TH2D\n",
    "from root_numpy import fill_hist\n",
    "from ROOT import TCanvas"
   ]
  },
  {
   "cell_type": "code",
   "execution_count": 44,
   "metadata": {
    "collapsed": false,
    "deletable": true,
    "editable": true
   },
   "outputs": [],
   "source": [
    "#filename = \"/Users/artur/cernbox/HGCAL/sk2cms/hexaboard_v0/data/hexa1/Hexaboard_1_d1_1ms_new.root\"\n",
    "#filename = \"/Users/artur/cernbox/HGCAL/sk2cms/hexaboard_v0/data/hexa2/Hex2_RUN_060417_1144_lowfreq_new.root\"\n",
    "#filename = \"/Users/artur/cernbox/HGCAL/sk2cms/hexaboard_v0/data/hexa4/Hex4_RUN_070417_1106_new.root\"\n",
    "#filename = \"/Users/artur/cernbox/HGCAL/sk2cms/hexaboard_v0/data/Acquisitions/Hex4_fixed_chip3_noise_new.root\"\n",
    "#filename = \"/Users/artur/Work/LLR/HGCAL/Testbeam/data/may17/RUN_100417_1321_new.root\"\n",
    "#filename = \"/Users/artur/Work/LLR/HGCAL/Testbeam/data/may17/RUN_0172_070517_1726.root\"\n",
    "#filename = \"../data/hex_sensor/RUN_090517_0928.root\"\n",
    "filename = \"/Users/artur/Work/LLR/HGCAL/Testbeam/data/may17/data_sensor/RUN_2000_090517_1211.root\"\n",
    "#filename = \"/Users/artur/Work/LLR/HGCAL/Testbeam/data/may17/all_data/disk2_2TB/data/PED_RUN_0126_120517_1529.root\"\n",
    "#filename = \"/Users/artur/Work/LLR/HGCAL/Testbeam/data/may17/all_data/disk2_2TB/data/PED_RUN_0042_100517_1954.rootall.root\"\n",
    "\n",
    "# Convert a TTree in a ROOT file into a NumPy structured array\n",
    "array = root2array(filename, 'sk2cms')\n",
    "# The TTree name is always optional if there is only one TTree in the file\n",
    "\n",
    "# Or first get the TTree from the ROOT file\n",
    "#rfile = ROOT.TFile(filename)\n",
    "#rfile.ls()\n",
    "#intree = rfile.Get('sk2cms')\n",
    "#intree.Print()\n",
    "\n",
    "# and convert the TTree into an array\n",
    "#array = tree2array(intree)"
   ]
  },
  {
   "cell_type": "code",
   "execution_count": 45,
   "metadata": {
    "collapsed": false,
    "deletable": true,
    "editable": true
   },
   "outputs": [
    {
     "data": {
      "text/plain": [
       "array([    0,     1,     2, ..., 24997, 24998, 24999], dtype=int32)"
      ]
     },
     "execution_count": 45,
     "metadata": {},
     "output_type": "execute_result"
    }
   ],
   "source": [
    "#for i in range(len(array[0])): print array[0][i]\n",
    "array.dtype.names\n",
    "array['event']"
   ]
  },
  {
   "cell_type": "code",
   "execution_count": 46,
   "metadata": {
    "collapsed": false,
    "deletable": true,
    "editable": true
   },
   "outputs": [],
   "source": [
    "i = 4\n",
    "event = array[i][0]\n",
    "roll = array[i][2]\n",
    "hg = array[i][3]\n",
    "lg = array[i][4]\n",
    "#tot_fast = array[i][5]"
   ]
  },
  {
   "cell_type": "code",
   "execution_count": 49,
   "metadata": {
    "collapsed": false,
    "deletable": true,
    "editable": true
   },
   "outputs": [],
   "source": [
    "#hg"
   ]
  },
  {
   "cell_type": "code",
   "execution_count": 50,
   "metadata": {
    "collapsed": false,
    "deletable": true,
    "editable": true
   },
   "outputs": [
    {
     "data": {
      "text/plain": [
       "(4, 13, 64)"
      ]
     },
     "execution_count": 50,
     "metadata": {},
     "output_type": "execute_result"
    }
   ],
   "source": [
    "hg.shape"
   ]
  },
  {
   "cell_type": "code",
   "execution_count": 51,
   "metadata": {
    "collapsed": false,
    "deletable": true,
    "editable": true
   },
   "outputs": [
    {
     "data": {
      "text/plain": [
       "array([48, 13, 48, 54, 15,  0, 27,  0, 68,  0, 12, 27, 25], dtype=int32)"
      ]
     },
     "execution_count": 51,
     "metadata": {},
     "output_type": "execute_result"
    }
   ],
   "source": [
    "hg[0,:,0] # single channel data for all SCAs (chip 0, event i)"
   ]
  },
  {
   "cell_type": "code",
   "execution_count": 52,
   "metadata": {
    "collapsed": false,
    "deletable": true,
    "editable": true
   },
   "outputs": [],
   "source": [
    "data = []\n",
    "chip = 0\n",
    "chan = 10\n",
    "for i in range(len(array)):\n",
    "    roll = array[i][2]\n",
    "    if not (roll[12] == roll[11] == 1): continue\n",
    "    gain = array[i][3] # 3 for HG, 4 for LG\n",
    "    #data.append((1-roll)* hg[0,:,0])\n",
    "    data.append(gain[chip,:,chan])"
   ]
  },
  {
   "cell_type": "code",
   "execution_count": 53,
   "metadata": {
    "collapsed": false,
    "deletable": true,
    "editable": true
   },
   "outputs": [
    {
     "data": {
      "text/plain": [
       "1999"
      ]
     },
     "execution_count": 53,
     "metadata": {},
     "output_type": "execute_result"
    }
   ],
   "source": [
    "data = numpy.array(data)\n",
    "data = data.T\n",
    "#data = numpy.transpose(data)\n",
    "len(data[0])"
   ]
  },
  {
   "cell_type": "code",
   "execution_count": 54,
   "metadata": {
    "collapsed": false,
    "deletable": true,
    "editable": true
   },
   "outputs": [
    {
     "data": {
      "text/plain": [
       "array([ 1.        , -0.34258062,  0.27887998, -0.13182064,  0.03005213,\n",
       "        0.13623245, -0.07969175,  0.11864796, -0.14940996,  0.1084783 ,\n",
       "       -0.11102784,  0.12489937, -0.09891083])"
      ]
     },
     "execution_count": 54,
     "metadata": {},
     "output_type": "execute_result"
    }
   ],
   "source": [
    "corr_matr = numpy.corrcoef(data)\n",
    "corr_matr[0]"
   ]
  },
  {
   "cell_type": "code",
   "execution_count": 55,
   "metadata": {
    "collapsed": false,
    "deletable": true,
    "editable": true
   },
   "outputs": [],
   "source": [
    "hist1d = ROOT.TH1D('h1', 'title', 13,-25/2.,12*25+25/2.)\n",
    "hist2d = ROOT.TH2D('h2', 'title', 13,0,13,13,0,13)\n",
    "\n",
    "for i in range(13):\n",
    "    #print corr_matr[0][i]\n",
    "    hist1d.SetBinContent(i+1,corr_matr[0][i])\n",
    "    for j in range(13):\n",
    "        hist2d.SetBinContent(i,j,corr_matr[i][j])"
   ]
  },
  {
   "cell_type": "code",
   "execution_count": 56,
   "metadata": {
    "collapsed": false,
    "deletable": true,
    "editable": true
   },
   "outputs": [],
   "source": [
    "canv = TCanvas(\"canv\",\"canv\",800,600)\n",
    "hist1d.Draw(\"p*l\")\n",
    "#hist2d.Draw(\"colz\")\n",
    "canv.Draw()"
   ]
  },
  {
   "cell_type": "code",
   "execution_count": null,
   "metadata": {
    "collapsed": false,
    "deletable": true,
    "editable": true
   },
   "outputs": [],
   "source": [
    "canv2 = TCanvas(\"canv2\",\"canv\",800,600)\n",
    "#hist1d.Draw(\"\")\n",
    "hist2d.Draw(\"colz\")\n",
    "canv2.Draw()"
   ]
  },
  {
   "cell_type": "code",
   "execution_count": null,
   "metadata": {
    "collapsed": false,
    "deletable": true,
    "editable": true
   },
   "outputs": [],
   "source": [
    "chip = 0\n",
    "hists = []\n",
    "for chan in range(64):\n",
    "    \n",
    "    data = []\n",
    "    # retrieve data\n",
    "    for i in range(len(array)):\n",
    "        roll = array[i][2]\n",
    "        if not (roll[12] == roll[11] == 1): continue\n",
    "        hg = array[i][3]\n",
    "        data.append(hg[chip,:,chan])\n",
    "    \n",
    "    data = numpy.array(data).T\n",
    "    corr_matr = numpy.corrcoef(data)\n",
    "    \n",
    "    hname = \"h_chip_%i_chan_%i\" %(chip,chan)\n",
    "    hist = ROOT.TH1D(hname, hname, 13,-25/2.,12*25+25/2.)\n",
    "    for i in range(13):    hist.SetBinContent(i+1,corr_matr[0][i])\n",
    "    \n",
    "    ROOT.SetOwnership(hist,0)\n",
    "    hists.append(hist)"
   ]
  },
  {
   "cell_type": "code",
   "execution_count": null,
   "metadata": {
    "collapsed": false,
    "deletable": true,
    "editable": true
   },
   "outputs": [],
   "source": [
    "ROOT.disableJSVis()\n",
    "canv = TCanvas(\"canv\",\"canv\",1000,1000)\n",
    "canv.Divide(8,8)\n",
    "\n",
    "for i,hist in enumerate(hists):\n",
    "    canv.cd(i+1)\n",
    "    hist.Draw(\"pl\")\n",
    "    \n",
    "canv.Draw()"
   ]
  },
  {
   "cell_type": "code",
   "execution_count": null,
   "metadata": {
    "collapsed": false,
    "deletable": true,
    "editable": true,
    "scrolled": false
   },
   "outputs": [],
   "source": [
    "ROOT.disableJSVis()\n",
    "#ROOT.enableJSVis()\n",
    "\n",
    "canv = TCanvas(\"canv\",\"canv\",800,600)\n",
    "\n",
    "hists[1].Draw(\"pl\")\n",
    "for i,hist in enumerate(hists):\n",
    "    if i == 0: continue\n",
    "    if i == 28: continue\n",
    "    hist.Draw(\"pl same\")\n",
    "    \n",
    "canv.Draw()"
   ]
  },
  {
   "cell_type": "code",
   "execution_count": null,
   "metadata": {
    "collapsed": true
   },
   "outputs": [],
   "source": []
  }
 ],
 "metadata": {
  "kernelspec": {
   "display_name": "Python 2",
   "language": "python",
   "name": "python2"
  },
  "language_info": {
   "codemirror_mode": {
    "name": "ipython",
    "version": 2
   },
   "file_extension": ".py",
   "mimetype": "text/x-python",
   "name": "python",
   "nbconvert_exporter": "python",
   "pygments_lexer": "ipython2",
   "version": "2.7.13"
  }
 },
 "nbformat": 4,
 "nbformat_minor": 2
}
